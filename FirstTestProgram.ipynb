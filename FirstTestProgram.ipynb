{
  "nbformat": 4,
  "nbformat_minor": 0,
  "metadata": {
    "colab": {
      "provenance": [],
      "authorship_tag": "ABX9TyNcgA1R2lytZ8C5+2kHzP3u",
      "include_colab_link": true
    },
    "kernelspec": {
      "name": "python3",
      "display_name": "Python 3"
    },
    "language_info": {
      "name": "python"
    }
  },
  "cells": [
    {
      "cell_type": "markdown",
      "metadata": {
        "id": "view-in-github",
        "colab_type": "text"
      },
      "source": [
        "<a href=\"https://colab.research.google.com/github/gauravtech09/FirstRepo/blob/main/FirstTestProgram.ipynb\" target=\"_parent\"><img src=\"https://colab.research.google.com/assets/colab-badge.svg\" alt=\"Open In Colab\"/></a>"
      ]
    },
    {
      "cell_type": "markdown",
      "source": [
        "This is Text Area where we can have any instructions, similar to Comment initially. It will take some time initially to run program, as it will prepare the enviornment."
      ],
      "metadata": {
        "id": "1iIP5ZJ_eZC9"
      }
    },
    {
      "cell_type": "code",
      "source": [
        "import random\n",
        "print('Hello! Shreyansh this side')\n",
        "print(\"Welcome to Operation Learner for Kids\")\n",
        "random_float = random.random();\n",
        "#print(random_float)\n",
        "print(\"1st Random is :\")\n",
        "print(random_float*150 // 1)\n",
        "num1=random_float*150 // 1\n",
        "\n",
        "random_float = random.random();\n",
        "print(\"2nd Random is :\")\n",
        "print(random_float*100 // 1)\n",
        "num2=random_float*100 // 1\n",
        "\n",
        "print(\"Sum is\", num1 + num2)\n",
        "print(\"Product is\",num1 * num2)\n",
        "\n",
        "if num2<num1:\n",
        "    print(\"Difference is\", num1 - num2)\n",
        "else:\n",
        "    print(\"Subtraction is not possible\")\n",
        "\n",
        "if num1/num2 == num1/num2//1:\n",
        "    print(\"Quotient is\", num1/num2)\n",
        "else:\n",
        "    print(\"Quotient is not possible\")"
      ],
      "metadata": {
        "colab": {
          "base_uri": "https://localhost:8080/"
        },
        "id": "z-bqlgLTsh9b",
        "outputId": "5c831de3-1cdb-4e8c-d8f8-234efae89249"
      },
      "execution_count": 164,
      "outputs": [
        {
          "output_type": "stream",
          "name": "stdout",
          "text": [
            "Hello! Shreyansh this side\n",
            "Welcome to Operation Learner for Kids\n",
            "1st Random is :\n",
            "3.0\n",
            "2nd Random is :\n",
            "97.0\n",
            "Sum is 100.0\n",
            "Product is 291.0\n",
            "Subtraction is not possible\n",
            "Quotient is not possible\n"
          ]
        }
      ]
    },
    {
      "cell_type": "code",
      "execution_count": 25,
      "metadata": {
        "id": "hRl6HY83cZYr",
        "colab": {
          "base_uri": "https://localhost:8080/"
        },
        "outputId": "3d380f3a-8457-47ec-86bb-79b19e509fb4"
      },
      "outputs": [
        {
          "output_type": "stream",
          "name": "stdout",
          "text": [
            "Hello World!\n",
            "Helloo This is second Line\n",
            "222\n",
            "4\n",
            "1 2 3333\n",
            "7\n",
            "12 23 good\n",
            "<class 'int'>\n",
            "<class 'int'>\n",
            "<class 'int'>\n",
            "<class 'str'>\n"
          ]
        }
      ],
      "source": [
        " print('Hello World!')\n",
        " print(\"Helloo This is second Line\")\n",
        " print(222)\n",
        " print(2+2)\n",
        " print(1,2,3333)\n",
        " x=3\n",
        " y =4\n",
        " name = 'Gaurav Agarwal'\n",
        " print(x+y)\n",
        " print(12, 23, 'good')\n",
        " print(type(x))\n",
        " print(type(y))\n",
        " print(type(x+y ))\n",
        " print(type(name))"
      ]
    },
    {
      "cell_type": "markdown",
      "source": [
        "Naming conventions for variables\n",
        "1. Rule1 : names are case sensitive\n",
        "2. Rule2 : names can't be sensitive\n",
        "3. Rule3 : name has to start with character or _\n",
        "4. Rule4 : Allowed characters A-Z, a-z, 0-9"
      ],
      "metadata": {
        "id": "BHWGG7cfeUyv"
      }
    },
    {
      "cell_type": "code",
      "source": [
        "val = 2;  print(type( val))\n",
        "val = 2.2;  print(type( val))\n",
        "val = True;  print(type( val))\n",
        "val = 'True';  print(type( val))\n",
        "val = 2+3j;  print(type( val))\n",
        "val = \"My name is Gaurav Agarwal\";  print(type(val))\n",
        "# String slicing\n",
        "print(val[1]); print(val[0:10]);\n",
        "print(val[:17]);  print(val[2:]);"
      ],
      "metadata": {
        "colab": {
          "base_uri": "https://localhost:8080/"
        },
        "id": "uwSoNDaJkTQU",
        "outputId": "c86eac53-69b5-488c-d716-b7c5352912b5"
      },
      "execution_count": 26,
      "outputs": [
        {
          "output_type": "stream",
          "name": "stdout",
          "text": [
            "<class 'int'>\n",
            "<class 'float'>\n",
            "<class 'bool'>\n",
            "<class 'str'>\n",
            "<class 'complex'>\n",
            "<class 'str'>\n",
            "y\n",
            "My name is\n",
            "My name is Gaurav\n",
            " name is Gaurav Agarwal\n"
          ]
        }
      ]
    },
    {
      "cell_type": "code",
      "source": [
        "var1 = 12\n",
        "var2 = 24\n",
        "print(\"Addition \",var1+var2)\n",
        "print(\"Subraction \",var1-var2)\n",
        "print(\"Multiplication \",var1*var2)\n",
        "print(var1/var2);  # Division operator\n",
        "print(\"Floor \",var1//var2); # Floor operator\n",
        "print(var1%var2)\n",
        "print(var1**var2);  print(2**8); # Exponential operator"
      ],
      "metadata": {
        "colab": {
          "base_uri": "https://localhost:8080/"
        },
        "id": "tEzU6ch5pLb_",
        "outputId": "fddc62bf-2719-4e86-8390-c61bdce2ab3f"
      },
      "execution_count": 31,
      "outputs": [
        {
          "output_type": "stream",
          "name": "stdout",
          "text": [
            "Addition  36\n",
            "Subraction  -12\n",
            "Multiplication  288\n",
            "0.5\n",
            "Floor  0\n",
            "12\n",
            "79496847203390844133441536\n",
            "256\n"
          ]
        }
      ]
    },
    {
      "cell_type": "code",
      "source": [
        "x = 5;  y = 7;\n",
        "z = x + y;\n",
        "print(z);\n",
        "if (x != y):\n",
        "    print(\"Not Equal\")\n",
        "else:\n",
        "    pass # Add code to handle the else condition here\n",
        "    print(\" Equal\")"
      ],
      "metadata": {
        "colab": {
          "base_uri": "https://localhost:8080/"
        },
        "id": "WiMYExKqq7i-",
        "outputId": "a2cad454-f82a-4e9f-f589-fbd5458c126f"
      },
      "execution_count": 36,
      "outputs": [
        {
          "output_type": "stream",
          "name": "stdout",
          "text": [
            "12\n",
            "Not Equal\n"
          ]
        }
      ]
    }
  ]
}